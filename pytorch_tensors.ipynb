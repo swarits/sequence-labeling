{
 "cells": [
  {
   "cell_type": "markdown",
   "metadata": {},
   "source": [
    "# PyTorch Tensors"
   ]
  },
  {
   "cell_type": "markdown",
   "metadata": {},
   "source": [
    "- This tutorial briefly describes some basic operations on Tensors in PyTorch. \n",
    "- This [documentation](http://pytorch.org/docs/master/torch.html) from pytorch contains information about all the possible operations on Tensors."
   ]
  },
  {
   "cell_type": "code",
   "execution_count": 1,
   "metadata": {},
   "outputs": [],
   "source": [
    "import torch\n",
    "import torch.nn as nn\n",
    "import numpy as np"
   ]
  },
  {
   "cell_type": "markdown",
   "metadata": {},
   "source": [
    "## Getting started with Tensors"
   ]
  },
  {
   "cell_type": "markdown",
   "metadata": {},
   "source": [
    "### Creating a Tensor"
   ]
  },
  {
   "cell_type": "code",
   "execution_count": 2,
   "metadata": {},
   "outputs": [
    {
     "name": "stdout",
     "output_type": "stream",
     "text": [
      "tensor([[1., 2., 3.],\n",
      "        [4., 5., 6.]])\n",
      "shape:  torch.Size([2, 3])\n"
     ]
    }
   ],
   "source": [
    "#Create Torch Tensor from a list\n",
    "x = torch.Tensor([[1,2,3],[4,5,6]])\n",
    "print (x) # prints the tensor\n",
    "print ('shape: ',x.shape) # returns the shape of the tensor. You can also use x.size()"
   ]
  },
  {
   "cell_type": "markdown",
   "metadata": {},
   "source": [
    "- you can use the `.numpy()` function to obtain the numpy array from tensor."
   ]
  },
  {
   "cell_type": "code",
   "execution_count": 3,
   "metadata": {},
   "outputs": [
    {
     "name": "stdout",
     "output_type": "stream",
     "text": [
      "numpy array: \n",
      "[[1. 2. 3.]\n",
      " [4. 5. 6.]]\n"
     ]
    }
   ],
   "source": [
    "print ('numpy array: ')\n",
    "print (x.numpy()) # obtains the numpy array from the pytorch Tensor"
   ]
  },
  {
   "cell_type": "markdown",
   "metadata": {},
   "source": [
    "- The default `torch.Tensor` is a float tensor as you can see above.\n",
    "- You can use `torch.LongTensor` for tensor of integer types."
   ]
  },
  {
   "cell_type": "code",
   "execution_count": 4,
   "metadata": {},
   "outputs": [
    {
     "name": "stdout",
     "output_type": "stream",
     "text": [
      "tensor([1, 4, 6])\n",
      "shape:  torch.Size([3])\n",
      "numpy array:  [1 4 6]\n"
     ]
    }
   ],
   "source": [
    "x = torch.LongTensor([1,4,6])\n",
    "print (x) # prints the tensor\n",
    "print ('shape: ', x.shape) # returns the shape of the tensor. You can also use x.size()\n",
    "print ('numpy array: ',x.numpy()) #obtains the numpy array"
   ]
  },
  {
   "cell_type": "markdown",
   "metadata": {},
   "source": [
    "- You can also create Tensors from numpy arrays"
   ]
  },
  {
   "cell_type": "code",
   "execution_count": 5,
   "metadata": {},
   "outputs": [
    {
     "name": "stdout",
     "output_type": "stream",
     "text": [
      "[1. 1. 1. 1. 1.]\n"
     ]
    }
   ],
   "source": [
    "one_arr = np.ones(5) # a numpy array\n",
    "print (one_arr)"
   ]
  },
  {
   "cell_type": "code",
   "execution_count": 6,
   "metadata": {},
   "outputs": [
    {
     "name": "stdout",
     "output_type": "stream",
     "text": [
      "tensor([1., 1., 1., 1., 1.], dtype=torch.float64)\n",
      "torch.Size([5])\n"
     ]
    }
   ],
   "source": [
    "x = torch.from_numpy(one_arr)\n",
    "print (x) \n",
    "print (x.shape) #obtains the shape of the tensor"
   ]
  },
  {
   "cell_type": "code",
   "execution_count": 7,
   "metadata": {},
   "outputs": [
    {
     "name": "stdout",
     "output_type": "stream",
     "text": [
      "[1. 1. 1. 1. 1.]\n"
     ]
    }
   ],
   "source": [
    "print (x.numpy()) #obtains the numpy array from the Tensor"
   ]
  },
  {
   "cell_type": "markdown",
   "metadata": {},
   "source": [
    "### Indexing into a Tensor"
   ]
  },
  {
   "cell_type": "code",
   "execution_count": 8,
   "metadata": {},
   "outputs": [
    {
     "name": "stdout",
     "output_type": "stream",
     "text": [
      "tensor([[[0.0809, 0.4367, 0.6641, 0.4338, 0.8787],\n",
      "         [0.0433, 0.8233, 0.3377, 0.2330, 0.6928],\n",
      "         [0.1616, 0.9488, 0.6204, 0.1012, 0.2346],\n",
      "         [0.1245, 0.2163, 0.0655, 0.3716, 0.7432]],\n",
      "\n",
      "        [[0.4204, 0.5892, 0.2297, 0.6034, 0.9370],\n",
      "         [0.0300, 0.7340, 0.4687, 0.4151, 0.0618],\n",
      "         [0.0802, 0.8095, 0.2518, 0.8315, 0.8113],\n",
      "         [0.0262, 0.6908, 0.3657, 0.2320, 0.4136]],\n",
      "\n",
      "        [[0.1431, 0.0068, 0.0795, 0.1329, 0.6936],\n",
      "         [0.5587, 0.9627, 0.2118, 0.7177, 0.8933],\n",
      "         [0.2874, 0.6682, 0.4687, 0.0898, 0.7850],\n",
      "         [0.3599, 0.6922, 0.1876, 0.8982, 0.1550]]], dtype=torch.float64)\n",
      "shape:  torch.Size([3, 4, 5])\n"
     ]
    }
   ],
   "source": [
    "a = np.random.rand(3,4,5)\n",
    "x = torch.from_numpy(a)\n",
    "print (x)\n",
    "print ('shape: ',x.shape)"
   ]
  },
  {
   "cell_type": "code",
   "execution_count": 9,
   "metadata": {},
   "outputs": [
    {
     "name": "stdout",
     "output_type": "stream",
     "text": [
      "tensor([[0.0809, 0.4367, 0.6641, 0.4338, 0.8787],\n",
      "        [0.0433, 0.8233, 0.3377, 0.2330, 0.6928],\n",
      "        [0.1616, 0.9488, 0.6204, 0.1012, 0.2346],\n",
      "        [0.1245, 0.2163, 0.0655, 0.3716, 0.7432]], dtype=torch.float64)\n",
      "torch.Size([4, 5])\n"
     ]
    }
   ],
   "source": [
    "# you can index into them like arrays\n",
    "print (x[0]) #gives you a matrix Tensor\n",
    "print (x[0].shape)"
   ]
  },
  {
   "cell_type": "code",
   "execution_count": 10,
   "metadata": {},
   "outputs": [
    {
     "name": "stdout",
     "output_type": "stream",
     "text": [
      "tensor([0.1616, 0.9488, 0.6204, 0.1012, 0.2346], dtype=torch.float64)\n",
      "torch.Size([5])\n"
     ]
    }
   ],
   "source": [
    "# you can index into them like arrays\n",
    "print (x[0][2]) # gives you a vector Tensor\n",
    "print (x[0][2].shape)"
   ]
  },
  {
   "cell_type": "code",
   "execution_count": 14,
   "metadata": {},
   "outputs": [
    {
     "name": "stdout",
     "output_type": "stream",
     "text": [
      "0.10116234706752503\n"
     ]
    }
   ],
   "source": [
    "print (x[0][2][3].item()) #this gives you a scalar Python number"
   ]
  },
  {
   "cell_type": "markdown",
   "metadata": {},
   "source": [
    "### Reshaping a Tensor"
   ]
  },
  {
   "cell_type": "markdown",
   "metadata": {},
   "source": [
    "- To reshape a tensor to a different size, you can use the `.view()` function. \n",
    "- The `.view()` function returns a tensor with the same data as the self tensor but of a different size"
   ]
  },
  {
   "cell_type": "code",
   "execution_count": 15,
   "metadata": {},
   "outputs": [
    {
     "name": "stdout",
     "output_type": "stream",
     "text": [
      "tensor([[0.3254, 0.8644, 0.2688, 0.4030, 0.9252, 0.9207],\n",
      "        [0.6507, 0.8194, 0.4609, 0.2892, 0.3176, 0.5650]], dtype=torch.float64)\n",
      "shape:  torch.Size([2, 6])\n"
     ]
    }
   ],
   "source": [
    "a = np.random.rand(2,6)\n",
    "x = torch.from_numpy(a)\n",
    "print (x)\n",
    "print ('shape: ',x.shape)"
   ]
  },
  {
   "cell_type": "code",
   "execution_count": 16,
   "metadata": {},
   "outputs": [
    {
     "name": "stdout",
     "output_type": "stream",
     "text": [
      "tensor([[0.3254, 0.8644, 0.2688, 0.4030],\n",
      "        [0.9252, 0.9207, 0.6507, 0.8194],\n",
      "        [0.4609, 0.2892, 0.3176, 0.5650]], dtype=torch.float64)\n",
      "torch.Size([3, 4])\n"
     ]
    }
   ],
   "source": [
    "y = x.view(3,4) #reshapes it into a tensor of size 3 x 4\n",
    "print (y)\n",
    "print (y.shape)"
   ]
  },
  {
   "cell_type": "code",
   "execution_count": 17,
   "metadata": {},
   "outputs": [
    {
     "name": "stdout",
     "output_type": "stream",
     "text": [
      "tensor([[[0.3254, 0.8644],\n",
      "         [0.2688, 0.4030],\n",
      "         [0.9252, 0.9207]],\n",
      "\n",
      "        [[0.6507, 0.8194],\n",
      "         [0.4609, 0.2892],\n",
      "         [0.3176, 0.5650]]], dtype=torch.float64)\n",
      "torch.Size([2, 3, 2])\n"
     ]
    }
   ],
   "source": [
    "y = x.view(2,3,2) #reshapes the tensor into 2 x 3 x 2\n",
    "print (y)\n",
    "print (y.shape)"
   ]
  },
  {
   "cell_type": "markdown",
   "metadata": {},
   "source": [
    "- if one of the dimensions is `-1`, as shown below, then its size can be inferred. So, you cannot have multiple -1's in view."
   ]
  },
  {
   "cell_type": "code",
   "execution_count": 18,
   "metadata": {},
   "outputs": [
    {
     "name": "stdout",
     "output_type": "stream",
     "text": [
      "tensor([[0.3254, 0.8644, 0.2688],\n",
      "        [0.4030, 0.9252, 0.9207],\n",
      "        [0.6507, 0.8194, 0.4609],\n",
      "        [0.2892, 0.3176, 0.5650]], dtype=torch.float64)\n",
      "torch.Size([4, 3])\n"
     ]
    }
   ],
   "source": [
    "y = x.view(4,3) #reshapes the tensor into 4x3\n",
    "print (y)\n",
    "print (y.shape)"
   ]
  },
  {
   "cell_type": "code",
   "execution_count": 19,
   "metadata": {},
   "outputs": [
    {
     "name": "stdout",
     "output_type": "stream",
     "text": [
      "tensor([[0.3254, 0.8644, 0.2688],\n",
      "        [0.4030, 0.9252, 0.9207],\n",
      "        [0.6507, 0.8194, 0.4609],\n",
      "        [0.2892, 0.3176, 0.5650]], dtype=torch.float64)\n",
      "torch.Size([4, 3])\n"
     ]
    }
   ],
   "source": [
    "y = x.view(4,-1) #same as above, but the second dimension can be inferred.\n",
    "print (y)\n",
    "print (y.shape)"
   ]
  },
  {
   "cell_type": "markdown",
   "metadata": {},
   "source": [
    "### Operations on Tensors"
   ]
  },
  {
   "cell_type": "markdown",
   "metadata": {},
   "source": [
    "- You can do some basic operations on tensors like arrays"
   ]
  },
  {
   "cell_type": "code",
   "execution_count": 20,
   "metadata": {},
   "outputs": [
    {
     "name": "stdout",
     "output_type": "stream",
     "text": [
      "tensor([[0.5227, 0.9553, 0.7359, 0.4028, 0.3062]], dtype=torch.float64)\n",
      "torch.Size([1, 5])\n"
     ]
    }
   ],
   "source": [
    "a = np.random.rand(1,5)\n",
    "x = torch.from_numpy(a)\n",
    "print (x)\n",
    "print (x.shape)"
   ]
  },
  {
   "cell_type": "code",
   "execution_count": 21,
   "metadata": {},
   "outputs": [
    {
     "name": "stdout",
     "output_type": "stream",
     "text": [
      "tensor([[1., 1., 1., 1., 1.]], dtype=torch.float64)\n",
      "torch.Size([1, 5])\n"
     ]
    }
   ],
   "source": [
    "b = np.ones((1,5))\n",
    "y = torch.from_numpy(b)\n",
    "print (y)\n",
    "print (y.shape)"
   ]
  },
  {
   "cell_type": "code",
   "execution_count": 22,
   "metadata": {},
   "outputs": [
    {
     "name": "stdout",
     "output_type": "stream",
     "text": [
      "tensor([[1.5227, 1.9553, 1.7359, 1.4028, 1.3062]], dtype=torch.float64)\n"
     ]
    }
   ],
   "source": [
    "print (x + y) #element wise addition"
   ]
  },
  {
   "cell_type": "code",
   "execution_count": 23,
   "metadata": {},
   "outputs": [
    {
     "name": "stdout",
     "output_type": "stream",
     "text": [
      "tensor([[-0.4773, -0.0447, -0.2641, -0.5972, -0.6938]], dtype=torch.float64)\n"
     ]
    }
   ],
   "source": [
    "print (x - y) #element wise subtraction"
   ]
  },
  {
   "cell_type": "code",
   "execution_count": 24,
   "metadata": {},
   "outputs": [
    {
     "name": "stdout",
     "output_type": "stream",
     "text": [
      "tensor([[0.5227, 0.9553, 0.7359, 0.4028, 0.3062]], dtype=torch.float64)\n"
     ]
    }
   ],
   "source": [
    "print (x * y)  #element wise multiplication"
   ]
  },
  {
   "cell_type": "markdown",
   "metadata": {},
   "source": [
    "- Another useful operation on tensors is concatenation.\n",
    "- You can use the `torch.cat()` function, it takes in a list/sequence of tensors and concatenates them"
   ]
  },
  {
   "cell_type": "code",
   "execution_count": 25,
   "metadata": {},
   "outputs": [
    {
     "data": {
      "text/plain": [
       "tensor([[0.5227, 0.9553, 0.7359, 0.4028, 0.3062],\n",
       "        [1.0000, 1.0000, 1.0000, 1.0000, 1.0000]], dtype=torch.float64)"
      ]
     },
     "execution_count": 25,
     "metadata": {},
     "output_type": "execute_result"
    }
   ],
   "source": [
    "torch.cat([x,y]) # concatenates them along the row (dim=0) by default."
   ]
  },
  {
   "cell_type": "code",
   "execution_count": 26,
   "metadata": {},
   "outputs": [
    {
     "data": {
      "text/plain": [
       "tensor([[0.5227, 0.9553, 0.7359, 0.4028, 0.3062, 1.0000, 1.0000, 1.0000, 1.0000,\n",
       "         1.0000]], dtype=torch.float64)"
      ]
     },
     "execution_count": 26,
     "metadata": {},
     "output_type": "execute_result"
    }
   ],
   "source": [
    "torch.cat([x,y], dim=1) # concatenates them along the column when dim=1 is mentioned."
   ]
  },
  {
   "cell_type": "markdown",
   "metadata": {},
   "source": [
    "- If you want to expand a Tensor along the singleton dimension, you can use the `.expand()` function."
   ]
  },
  {
   "cell_type": "code",
   "execution_count": 27,
   "metadata": {},
   "outputs": [
    {
     "name": "stdout",
     "output_type": "stream",
     "text": [
      "tensor([[1.],\n",
      "        [2.],\n",
      "        [3.]])\n",
      "torch.Size([3, 1])\n"
     ]
    }
   ],
   "source": [
    "x = torch.Tensor([[1],[2],[3]])\n",
    "print (x)\n",
    "print (x.shape)"
   ]
  },
  {
   "cell_type": "code",
   "execution_count": 28,
   "metadata": {},
   "outputs": [
    {
     "data": {
      "text/plain": [
       "tensor([[1., 1., 1., 1.],\n",
       "        [2., 2., 2., 2.],\n",
       "        [3., 3., 3., 3.]])"
      ]
     },
     "execution_count": 28,
     "metadata": {},
     "output_type": "execute_result"
    }
   ],
   "source": [
    "x.expand(3,4) #expands it along the second dimension from (3 x 1) to be (3 x 4)"
   ]
  },
  {
   "cell_type": "code",
   "execution_count": 29,
   "metadata": {},
   "outputs": [
    {
     "data": {
      "text/plain": [
       "tensor([[5., 6.],\n",
       "        [5., 6.],\n",
       "        [5., 6.],\n",
       "        [5., 6.],\n",
       "        [5., 6.]])"
      ]
     },
     "execution_count": 29,
     "metadata": {},
     "output_type": "execute_result"
    }
   ],
   "source": [
    "x = torch.Tensor([5,6]).view(-1,2) #reshaping it to 1 x 2\n",
    "x.expand(5,2) #expands it along the first dimension from (1 x 2) to (5 x 2)"
   ]
  },
  {
   "cell_type": "markdown",
   "metadata": {},
   "source": [
    "- These are the basic operations on the Tensors that will be very useful. You can check the [documentation here](http://pytorch.org/docs/master/torch.html) for all list of operations."
   ]
  }
 ],
 "metadata": {
  "kernelspec": {
   "display_name": "Python 3",
   "language": "python",
   "name": "python3"
  },
  "language_info": {
   "codemirror_mode": {
    "name": "ipython",
    "version": 3
   },
   "file_extension": ".py",
   "mimetype": "text/x-python",
   "name": "python",
   "nbconvert_exporter": "python",
   "pygments_lexer": "ipython3",
   "version": "3.7.4"
  }
 },
 "nbformat": 4,
 "nbformat_minor": 2
}
